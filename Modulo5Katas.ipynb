{
 "cells": [
  {
   "cell_type": "markdown",
   "metadata": {},
   "source": [
    "### Ejercicio 1 - Utilizar operadores aritméticos"
   ]
  },
  {
   "cell_type": "code",
   "execution_count": 3,
   "metadata": {},
   "outputs": [
    {
     "name": "stdout",
     "output_type": "stream",
     "text": [
      "628949330 km\n",
      "390577533.93 millas\n"
     ]
    }
   ],
   "source": [
    "earth_distance = 149597870\n",
    "jupiter_distance = 778547200\n",
    "\n",
    "distance = jupiter_distance - earth_distance\n",
    "\n",
    "print(str(distance)+ \" km\")\n",
    "print(str(distance * 0.621) + \" millas\")"
   ]
  },
  {
   "cell_type": "markdown",
   "metadata": {},
   "source": [
    "### Ejercicio 2: convierte cadenas en números y usa valores absolutos"
   ]
  },
  {
   "cell_type": "code",
   "execution_count": 4,
   "metadata": {},
   "outputs": [],
   "source": [
    "planet_a_distance = input(\"Ingrese la distancia del sol para el primer planeta\")\n",
    "planet_b_distance = input(\"Ingrese la distancia del sol para el segundo planeta\")"
   ]
  },
  {
   "cell_type": "code",
   "execution_count": 6,
   "metadata": {},
   "outputs": [
    {
     "name": "stdout",
     "output_type": "stream",
     "text": [
      "2814600000 km\n",
      "1747866600.0 millas\n"
     ]
    }
   ],
   "source": [
    "planet_a_distance = int(input(\"Ingrese la distancia del sol para el primer planeta\"))\n",
    "planet_b_distance = int(input(\"Ingrese la distancia del sol para el segundo planeta\"))\n",
    "\n",
    "distance = abs(planet_a_distance - planet_b_distance)\n",
    "\n",
    "print(str(distance)+\" km\\n\"+ str(distance*0.621)+\" millas\")"
   ]
  }
 ],
 "metadata": {
  "interpreter": {
   "hash": "efc0b53ff28c1ce9ccfba63f182dbdacad24607b623d1344459a9faec4da62dc"
  },
  "kernelspec": {
   "display_name": "Python 3.10.2 64-bit",
   "language": "python",
   "name": "python3"
  },
  "language_info": {
   "codemirror_mode": {
    "name": "ipython",
    "version": 3
   },
   "file_extension": ".py",
   "mimetype": "text/x-python",
   "name": "python",
   "nbconvert_exporter": "python",
   "pygments_lexer": "ipython3",
   "version": "3.10.2"
  },
  "orig_nbformat": 4
 },
 "nbformat": 4,
 "nbformat_minor": 2
}
