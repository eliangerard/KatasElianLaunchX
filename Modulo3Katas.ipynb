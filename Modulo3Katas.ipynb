{
 "cells": [
  {
   "cell_type": "code",
   "execution_count": 1,
   "metadata": {},
   "outputs": [
    {
     "name": "stdout",
     "output_type": "stream",
     "text": [
      "1 es diferente a 2\n"
     ]
    }
   ],
   "source": [
    "if 1 == 2:\n",
    "    print(\"1 es igual a 2\")\n",
    "    if 2==2:\n",
    "        print(\"2 es igual a 2\")\n",
    "    else:\n",
    "        print(\"2 es igual a pez\")\n",
    "elif 1 != 2:\n",
    "    print (\"1 es diferente a 2\")\n",
    "else:\n",
    "    print (\"1 no es diferente a 2\")\n"
   ]
  },
  {
   "cell_type": "code",
   "execution_count": 12,
   "metadata": {},
   "outputs": [
    {
     "name": "stdout",
     "output_type": "stream",
     "text": [
      "¡ADVERTENCIA! \n",
      "-Asteroide acercándose a una velocidad de: 49 Km/s\n"
     ]
    }
   ],
   "source": [
    "asteroidSpeed = 49\n",
    "if(asteroidSpeed > 25):\n",
    "    print(\"¡ADVERTENCIA! \\n-Asteroide acercándose a una velocidad de: \"+str(asteroidSpeed)+\" Km/s\")\n",
    "else:\n",
    "    print(\"Todo bien\")"
   ]
  },
  {
   "cell_type": "code",
   "execution_count": 9,
   "metadata": {},
   "outputs": [
    {
     "name": "stdout",
     "output_type": "stream",
     "text": [
      "No es posible ver el asteroide en atmosfera :(\n"
     ]
    }
   ],
   "source": [
    "asteroidSpeed = 19\n",
    "inAtmos = True\n",
    "if(inAtmos):\n",
    "    if(asteroidSpeed>=20):\n",
    "        print(\"¡Búsquen un asteroide en el cielo!\")    \n",
    "    else:\n",
    "        print(\"No es posible ver el asteroide en atmosfera :(\")\n",
    "elif(asteroidSpeed > 25):\n",
    "    print(\"¡ADVERTENCIA! \\n-Asteroide acercándose a una velocidad de: \"+str(asteroidSpeed)+\" Km/s\")\n"
   ]
  },
  {
   "cell_type": "code",
   "execution_count": 15,
   "metadata": {},
   "outputs": [
    {
     "name": "stdout",
     "output_type": "stream",
     "text": [
      "¡ADVERTENCIA! \n",
      "-Asteroide acercándose a una velocidad de: 31 Km/s\n"
     ]
    }
   ],
   "source": [
    "speed = 31 #Km/s\n",
    "size = 28 #m\n",
    "if speed > 25 and size > 25:\n",
    "    print(\"¡ADVERTENCIA! \\n-Asteroide acercándose a una velocidad de: \"+str(speed)+\" Km/s\")\n",
    "elif speed >= 20 or size < 25:\n",
    "    print(\"¡Búsquen un asteroide en el cielo!\")    \n",
    "else:\n",
    "    print('Todo sereno')\n",
    "    "
   ]
  }
 ],
 "metadata": {
  "interpreter": {
   "hash": "efc0b53ff28c1ce9ccfba63f182dbdacad24607b623d1344459a9faec4da62dc"
  },
  "kernelspec": {
   "display_name": "Python 3.10.2 64-bit",
   "language": "python",
   "name": "python3"
  },
  "language_info": {
   "codemirror_mode": {
    "name": "ipython",
    "version": 3
   },
   "file_extension": ".py",
   "mimetype": "text/x-python",
   "name": "python",
   "nbconvert_exporter": "python",
   "pygments_lexer": "ipython3",
   "version": "3.10.2"
  },
  "orig_nbformat": 4
 },
 "nbformat": 4,
 "nbformat_minor": 2
}
