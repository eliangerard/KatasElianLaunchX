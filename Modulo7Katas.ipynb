{
 "cells": [
  {
   "cell_type": "code",
   "execution_count": 3,
   "metadata": {},
   "outputs": [
    {
     "name": "stdout",
     "output_type": "stream",
     "text": [
      "iae\n",
      "dwasd\n",
      "dwead\n",
      "ef\n",
      "grtgh\n",
      "trh\n",
      "y\n",
      "trty\n"
     ]
    }
   ],
   "source": [
    "planets = []\n",
    "new_planet = \"\"\n",
    "while(new_planet.lower()!=\"done\"):\n",
    "    new_planet = input(\"Ingrese un planeta en la lista\")\n",
    "    if(new_planet != \"\" and new_planet.lower()!= \"done\"):\n",
    "        planets.append(new_planet)\n",
    "for planet in planets:\n",
    "    print(planet)"
   ]
  }
 ],
 "metadata": {
  "interpreter": {
   "hash": "efc0b53ff28c1ce9ccfba63f182dbdacad24607b623d1344459a9faec4da62dc"
  },
  "kernelspec": {
   "display_name": "Python 3.10.2 64-bit",
   "language": "python",
   "name": "python3"
  },
  "language_info": {
   "codemirror_mode": {
    "name": "ipython",
    "version": 3
   },
   "file_extension": ".py",
   "mimetype": "text/x-python",
   "name": "python",
   "nbconvert_exporter": "python",
   "pygments_lexer": "ipython3",
   "version": "3.10.2"
  },
  "orig_nbformat": 4
 },
 "nbformat": 4,
 "nbformat_minor": 2
}
