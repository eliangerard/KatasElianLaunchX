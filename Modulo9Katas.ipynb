{
 "cells": [
  {
   "cell_type": "markdown",
   "metadata": {},
   "source": [
    "### Ejercicio: Uso de funciones en Python"
   ]
  },
  {
   "cell_type": "code",
   "execution_count": 2,
   "metadata": {},
   "outputs": [
    {
     "name": "stdout",
     "output_type": "stream",
     "text": [
      "Reporte de Combustible\n",
      "    Promedio: 78.33333333333333%\n",
      "    Tanque principal: 80%\n",
      "    Tanque externo: 70%\n",
      "    Tanque de hidrógeno: 85%\n",
      "    \n"
     ]
    }
   ],
   "source": [
    "def prom_fuel(tanque1,tanque2,tanque3):\n",
    "    promedio = (tanque1+tanque2+tanque3)/3\n",
    "    return f\"\"\"Reporte de Combustible\n",
    "    Promedio: {promedio}%\n",
    "    Tanque principal: {tanque1}%\n",
    "    Tanque externo: {tanque2}%\n",
    "    Tanque de hidrógeno: {tanque3}%\n",
    "    \"\"\"\n",
    "\n",
    "print(prom_fuel(80, 70, 85))"
   ]
  },
  {
   "cell_type": "code",
   "execution_count": 3,
   "metadata": {},
   "outputs": [
    {
     "name": "stdout",
     "output_type": "stream",
     "text": [
      "Reporte de Combustible\n",
      "    Promedio: 78.33333333333333%\n",
      "    Tanque principal: 80%\n",
      "    Tanque externo: 70%\n",
      "    Tanque de hidrógeno: 85%\n",
      "    \n"
     ]
    }
   ],
   "source": [
    "def promedio(tanque1,tanque2,tanque3):\n",
    "    return (tanque1+tanque2+tanque3)/3\n",
    "\n",
    "def reporte(tanque1,tanque2,tanque3):    \n",
    "    return f\"\"\"Reporte de Combustible\n",
    "    Promedio: {promedio(tanque1, tanque2, tanque3)}%\n",
    "    Tanque principal: {tanque1}%\n",
    "    Tanque externo: {tanque2}%\n",
    "    Tanque de hidrógeno: {tanque3}%\n",
    "    \"\"\"\n",
    "\n",
    "print(reporte(80, 70, 85))"
   ]
  },
  {
   "cell_type": "markdown",
   "metadata": {},
   "source": [
    "### Ejercicio 2: Trabajo con argumentos de palabra clave"
   ]
  },
  {
   "cell_type": "code",
   "execution_count": 8,
   "metadata": {},
   "outputs": [
    {
     "name": "stdout",
     "output_type": "stream",
     "text": [
      "\n",
      "    Misión hacia Moon\n",
      "    Tiempo de viaje 65 minutos\n",
      "    Combustible restante 500000 litros\n",
      "    \n"
     ]
    }
   ],
   "source": [
    "def mission_report(prelaunch, time, destination, exFuel, inFuel):\n",
    "    return f\"\"\"\n",
    "    Misión hacia {destination}\n",
    "    Tiempo de viaje {prelaunch + time} minutos\n",
    "    Combustible restante {exFuel + inFuel} litros\n",
    "    \"\"\"\n",
    "print(mission_report(14, 51, \"Moon\", 200000, 300000))\n",
    "\n"
   ]
  },
  {
   "cell_type": "code",
   "execution_count": 12,
   "metadata": {},
   "outputs": [
    {
     "name": "stdout",
     "output_type": "stream",
     "text": [
      "\n",
      "    Misión hacia Moon\n",
      "    Tiempo de viaje 76 minutos\n",
      "    Combustible restante 500000 litros\n",
      "    \n"
     ]
    }
   ],
   "source": [
    "def mission_report(destination, *minutes, **fuel_tanks):\n",
    "    return f\"\"\"\n",
    "    Misión hacia {destination}\n",
    "    Tiempo de viaje {sum(minutes)} minutos\n",
    "    Combustible restante {sum(fuel_tanks.values())} litros\n",
    "    \"\"\"\n",
    "print(mission_report(\"Moon\", 10, 15, 51, main=300000, external=200000))\n"
   ]
  },
  {
   "cell_type": "code",
   "execution_count": 14,
   "metadata": {},
   "outputs": [
    {
     "name": "stdout",
     "output_type": "stream",
     "text": [
      "\n",
      "    Misión hacia Moon\n",
      "    Tiempo de viaje 76 minutos\n",
      "    Combustible restante 500000 litros\n",
      "    main tank: 300000 litros restantes\n",
      "external tank: 200000 litros restantes\n",
      "\n"
     ]
    }
   ],
   "source": [
    "def mission_report(destination, *minutes, **fuel_tanks):\n",
    "    report = f\"\"\"\n",
    "    Misión hacia {destination}\n",
    "    Tiempo de viaje {sum(minutes)} minutos\n",
    "    Combustible restante {sum(fuel_tanks.values())} litros\n",
    "    \"\"\"\n",
    "    for name, litros in fuel_tanks.items():\n",
    "        report += f\"\"\"{name} tank: {litros} litros restantes\\n\"\"\"\n",
    "    return report\n",
    "print(mission_report(\"Moon\", 10, 15, 51, main=300000, external=200000))"
   ]
  }
 ],
 "metadata": {
  "interpreter": {
   "hash": "efc0b53ff28c1ce9ccfba63f182dbdacad24607b623d1344459a9faec4da62dc"
  },
  "kernelspec": {
   "display_name": "Python 3.10.2 64-bit",
   "language": "python",
   "name": "python3"
  },
  "language_info": {
   "codemirror_mode": {
    "name": "ipython",
    "version": 3
   },
   "file_extension": ".py",
   "mimetype": "text/x-python",
   "name": "python",
   "nbconvert_exporter": "python",
   "pygments_lexer": "ipython3",
   "version": "3.10.2"
  },
  "orig_nbformat": 4
 },
 "nbformat": 4,
 "nbformat_minor": 2
}
