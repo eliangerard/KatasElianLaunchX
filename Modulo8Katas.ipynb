{
 "cells": [
  {
   "cell_type": "code",
   "execution_count": 21,
   "metadata": {},
   "outputs": [],
   "source": [
    "planet = {\n",
    "    \"name\": \"Mars\",\n",
    "    \"moons\": 2\n",
    "}"
   ]
  },
  {
   "cell_type": "code",
   "execution_count": 22,
   "metadata": {},
   "outputs": [
    {
     "name": "stdout",
     "output_type": "stream",
     "text": [
      "Planet\n",
      "Name: Mars\n",
      "Moons: 2\n"
     ]
    }
   ],
   "source": [
    "print(\"Planet\\nName: \"+planet.get(\"name\")+\"\\nMoons: \"+str(planet[\"moons\"]))"
   ]
  },
  {
   "cell_type": "code",
   "execution_count": 23,
   "metadata": {},
   "outputs": [
    {
     "name": "stdout",
     "output_type": "stream",
     "text": [
      "Planet\n",
      "Name: Mars\n",
      "Circunference:\n",
      "-Polar: 6752\n",
      "-Equatorial: 6792\n"
     ]
    }
   ],
   "source": [
    "circunferencia = {\n",
    "    \"polar\": 6752,\n",
    "    \"equatorial\": 6792\n",
    "}\n",
    "planet.update(circunferencia)\n",
    "print(\"Planet\\n Name: \"+planet[\"name\"]+\"\\nCircumference:\\n-Polar: \"+str(planet[\"polar\"])+\"\\n-Equatorial: \"+str(planet[\"equatorial\"]))"
   ]
  }
 ],
 "metadata": {
  "interpreter": {
   "hash": "efc0b53ff28c1ce9ccfba63f182dbdacad24607b623d1344459a9faec4da62dc"
  },
  "kernelspec": {
   "display_name": "Python 3.10.2 64-bit",
   "language": "python",
   "name": "python3"
  },
  "language_info": {
   "codemirror_mode": {
    "name": "ipython",
    "version": 3
   },
   "file_extension": ".py",
   "mimetype": "text/x-python",
   "name": "python",
   "nbconvert_exporter": "python",
   "pygments_lexer": "ipython3",
   "version": "3.10.2"
  },
  "orig_nbformat": 4
 },
 "nbformat": 4,
 "nbformat_minor": 2
}
